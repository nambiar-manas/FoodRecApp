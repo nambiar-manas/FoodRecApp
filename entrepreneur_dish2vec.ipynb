{
  "cells": [
    {
      "cell_type": "code",
      "execution_count": 1,
      "metadata": {
        "id": "hu25r-8PGhgQ"
      },
      "outputs": [],
      "source": [
        "import json\n",
        "\n",
        "from sklearn.model_selection import train_test_split\n",
        "import pandas as pd\n",
        "import pandas as pd\n",
        "import numpy as np\n",
        "import torch\n",
        "from pathlib import Path\n",
        "from torch.utils.data import Dataset, DataLoader\n",
        "import torch.optim as optim\n",
        "import torch.nn as nn\n",
        "import torch.nn.functional as F\n",
        "import math\n",
        "\n",
        "from torch.utils.data import Dataset, DataLoader"
      ]
    },
    {
      "cell_type": "markdown",
      "metadata": {
        "id": "3s0_3CJYGhgR"
      },
      "source": [
        "## Load Data"
      ]
    },
    {
      "cell_type": "code",
      "execution_count": 2,
      "metadata": {
        "id": "dRh83-dgGhgS"
      },
      "outputs": [],
      "source": [
        "file_path = '/content/spark_features.json'\n",
        "with open(file_path, 'r') as file:\n",
        "    data = json.load(file)"
      ]
    },
    {
      "cell_type": "code",
      "execution_count": 3,
      "metadata": {
        "colab": {
          "base_uri": "https://localhost:8080/"
        },
        "id": "0W6pBqhGGhgS",
        "outputId": "6cd791d1-e83e-48b4-e9be-af4c87a12b1b"
      },
      "outputs": [
        {
          "output_type": "execute_result",
          "data": {
            "text/plain": [
              "[['0QHEWicUbdyWuHsMcVd1Ka', '08Isz2ETWSBhvIl8UpKYsp'],\n",
              " ['0TdWXMXyfTQ2qp5vvU9LID', '0QHEWicUbdyWuHsMcVd1Ka'],\n",
              " ['0XwRlvv3KlOu4HWlOH34XG', '0TdWXMXyfTQ2qp5vvU9LID'],\n",
              " ['0biuGbhZwYnuUwMOi4fvaN', '0XwRlvv3KlOu4HWlOH34XG'],\n",
              " ['18kRElgBSIAsd3DHPUajuI', '0biuGbhZwYnuUwMOi4fvaN'],\n",
              " ['1YKPRycM3GzKbZUYDgLrmn', '18kRElgBSIAsd3DHPUajuI'],\n",
              " ['1jkNF7kVO0tzNiGXzpC6fQ', '1YKPRycM3GzKbZUYDgLrmn'],\n",
              " ['23NtsJjA1GhlKMAypBv9xR', '1jkNF7kVO0tzNiGXzpC6fQ'],\n",
              " ['2oenSXLDbWVaaL7QjSGYj5', '23NtsJjA1GhlKMAypBv9xR'],\n",
              " ['39QJ7KkN3L8LLqQqsO85W1', '2oenSXLDbWVaaL7QjSGYj5'],\n",
              " ['3F3ZuXYFXGM1V6pk3b3zmi', '39QJ7KkN3L8LLqQqsO85W1'],\n",
              " ['3GEiVoaUXq468gfYs2EPfh', '3F3ZuXYFXGM1V6pk3b3zmi'],\n",
              " ['3NwmvlTYDZPRBGDMGgJH8K', '3GEiVoaUXq468gfYs2EPfh'],\n",
              " ['3eoxzqrUUuGCTw8IUeeqcH', '3NwmvlTYDZPRBGDMGgJH8K'],\n",
              " ['3iNn2VvRJMpz5VLbEAH2r1', '3eoxzqrUUuGCTw8IUeeqcH'],\n",
              " ['3mZLiEDAHIjZ8ms5Lxq33F', '3iNn2VvRJMpz5VLbEAH2r1'],\n",
              " ['3s6bB02odIXvM3OpnqgzNN', '3mZLiEDAHIjZ8ms5Lxq33F'],\n",
              " ['3u6jK5KR1ijBCUs4CLzV9c', '3s6bB02odIXvM3OpnqgzNN'],\n",
              " ['42TMa2hgBNjte4uV7jNCnQ', '3u6jK5KR1ijBCUs4CLzV9c'],\n",
              " ['4VosVUajzm6nzGlSb6nP3L', '42TMa2hgBNjte4uV7jNCnQ'],\n",
              " ['4eBvRhTJ2AcxCsbfTUjoRp', '4VosVUajzm6nzGlSb6nP3L'],\n",
              " ['4fnIORP0QTYTOMPqMKpJtF', '4eBvRhTJ2AcxCsbfTUjoRp'],\n",
              " ['53QrRlALFJfZgdcGLKwy5s', '4fnIORP0QTYTOMPqMKpJtF'],\n",
              " ['5TjVLCESR9XIp5vDAWYfmi', '53QrRlALFJfZgdcGLKwy5s'],\n",
              " ['5ZLkihi6DVsHwDL3B8ym1t', '5TjVLCESR9XIp5vDAWYfmi'],\n",
              " ['5bnfUWFS4sVeWx1JLA3K9Z', '5ZLkihi6DVsHwDL3B8ym1t'],\n",
              " ['5eGsHi6RcL33gb9k89UYaB', '5bnfUWFS4sVeWx1JLA3K9Z'],\n",
              " ['610keNiNVTIkYD0CqeSerg', '5eGsHi6RcL33gb9k89UYaB'],\n",
              " ['64mInfKzmJIbuTvcnhRgfW', '610keNiNVTIkYD0CqeSerg'],\n",
              " ['6ZYxNjuAU9Vy3VtF6W1dtE', '64mInfKzmJIbuTvcnhRgfW'],\n",
              " ['6dgYHmc5yBnQFI4FSCbp6y', '6ZYxNjuAU9Vy3VtF6W1dtE'],\n",
              " ['72vuBPMhwFNlSYpTSf6fVD', '6dgYHmc5yBnQFI4FSCbp6y'],\n",
              " ['7d4ZrG3Cer7jbqIl6wOI6D', '72vuBPMhwFNlSYpTSf6fVD'],\n",
              " ['7o1SDLghDwMc4OW3rKakVt', '7d4ZrG3Cer7jbqIl6wOI6D']]"
            ]
          },
          "metadata": {},
          "execution_count": 3
        }
      ],
      "source": [
        "data"
      ]
    },
    {
      "cell_type": "code",
      "execution_count": 4,
      "metadata": {
        "colab": {
          "base_uri": "https://localhost:8080/"
        },
        "id": "q8W7Gj3yGhgS",
        "outputId": "dfdf0fff-2b46-4781-81b3-7f0c0849febe"
      },
      "outputs": [
        {
          "output_type": "execute_result",
          "data": {
            "text/plain": [
              "['0QHEWicUbdyWuHsMcVd1Ka',\n",
              " '0TdWXMXyfTQ2qp5vvU9LID',\n",
              " '0XwRlvv3KlOu4HWlOH34XG',\n",
              " '0biuGbhZwYnuUwMOi4fvaN',\n",
              " '18kRElgBSIAsd3DHPUajuI',\n",
              " '1YKPRycM3GzKbZUYDgLrmn',\n",
              " '1jkNF7kVO0tzNiGXzpC6fQ',\n",
              " '23NtsJjA1GhlKMAypBv9xR',\n",
              " '2oenSXLDbWVaaL7QjSGYj5',\n",
              " '39QJ7KkN3L8LLqQqsO85W1',\n",
              " '3F3ZuXYFXGM1V6pk3b3zmi',\n",
              " '3GEiVoaUXq468gfYs2EPfh',\n",
              " '3NwmvlTYDZPRBGDMGgJH8K',\n",
              " '3eoxzqrUUuGCTw8IUeeqcH',\n",
              " '3iNn2VvRJMpz5VLbEAH2r1',\n",
              " '3mZLiEDAHIjZ8ms5Lxq33F',\n",
              " '3s6bB02odIXvM3OpnqgzNN',\n",
              " '3u6jK5KR1ijBCUs4CLzV9c',\n",
              " '42TMa2hgBNjte4uV7jNCnQ',\n",
              " '4VosVUajzm6nzGlSb6nP3L',\n",
              " '4eBvRhTJ2AcxCsbfTUjoRp',\n",
              " '4fnIORP0QTYTOMPqMKpJtF',\n",
              " '53QrRlALFJfZgdcGLKwy5s',\n",
              " '5TjVLCESR9XIp5vDAWYfmi',\n",
              " '5ZLkihi6DVsHwDL3B8ym1t',\n",
              " '5bnfUWFS4sVeWx1JLA3K9Z',\n",
              " '5eGsHi6RcL33gb9k89UYaB',\n",
              " '610keNiNVTIkYD0CqeSerg',\n",
              " '64mInfKzmJIbuTvcnhRgfW',\n",
              " '6ZYxNjuAU9Vy3VtF6W1dtE',\n",
              " '6dgYHmc5yBnQFI4FSCbp6y',\n",
              " '72vuBPMhwFNlSYpTSf6fVD',\n",
              " '7d4ZrG3Cer7jbqIl6wOI6D',\n",
              " '7o1SDLghDwMc4OW3rKakVt']"
            ]
          },
          "metadata": {},
          "execution_count": 4
        }
      ],
      "source": [
        "X = [d[0] for d in data]\n",
        "y = [d[1] for d in data]\n",
        "X"
      ]
    },
    {
      "cell_type": "code",
      "execution_count": 5,
      "metadata": {
        "id": "8vV5jdmtGhgS"
      },
      "outputs": [],
      "source": [
        "X_train, X_test, y_train, y_test = train_test_split(X, y, test_size=0.2, random_state=42)\n",
        "X_train = pd.DataFrame(data=X_train, columns=['prev_dish'])\n",
        "X_test = pd.DataFrame(data=X_test, columns=['prev_dish'])\n",
        "y_train = pd.DataFrame(data=y_train, columns=['next_dish'])\n",
        "y_test = pd.DataFrame(data=y_test, columns=['next_dish'])"
      ]
    },
    {
      "cell_type": "code",
      "execution_count": 6,
      "metadata": {
        "colab": {
          "base_uri": "https://localhost:8080/",
          "height": 143
        },
        "id": "Sduxeix-GhgS",
        "outputId": "66f9c88c-a65e-44c7-a67b-e6b0005057cd"
      },
      "outputs": [
        {
          "output_type": "execute_result",
          "data": {
            "text/plain": [
              "                 prev_dish               next_dish\n",
              "10  3F3ZuXYFXGM1V6pk3b3zmi  39QJ7KkN3L8LLqQqsO85W1\n",
              "26  5eGsHi6RcL33gb9k89UYaB  5bnfUWFS4sVeWx1JLA3K9Z\n",
              "13  3eoxzqrUUuGCTw8IUeeqcH  3NwmvlTYDZPRBGDMGgJH8K"
            ],
            "text/html": [
              "\n",
              "  <div id=\"df-b220976a-20e2-4f25-8957-682c383a8e4d\" class=\"colab-df-container\">\n",
              "    <div>\n",
              "<style scoped>\n",
              "    .dataframe tbody tr th:only-of-type {\n",
              "        vertical-align: middle;\n",
              "    }\n",
              "\n",
              "    .dataframe tbody tr th {\n",
              "        vertical-align: top;\n",
              "    }\n",
              "\n",
              "    .dataframe thead th {\n",
              "        text-align: right;\n",
              "    }\n",
              "</style>\n",
              "<table border=\"1\" class=\"dataframe\">\n",
              "  <thead>\n",
              "    <tr style=\"text-align: right;\">\n",
              "      <th></th>\n",
              "      <th>prev_dish</th>\n",
              "      <th>next_dish</th>\n",
              "    </tr>\n",
              "  </thead>\n",
              "  <tbody>\n",
              "    <tr>\n",
              "      <th>10</th>\n",
              "      <td>3F3ZuXYFXGM1V6pk3b3zmi</td>\n",
              "      <td>39QJ7KkN3L8LLqQqsO85W1</td>\n",
              "    </tr>\n",
              "    <tr>\n",
              "      <th>26</th>\n",
              "      <td>5eGsHi6RcL33gb9k89UYaB</td>\n",
              "      <td>5bnfUWFS4sVeWx1JLA3K9Z</td>\n",
              "    </tr>\n",
              "    <tr>\n",
              "      <th>13</th>\n",
              "      <td>3eoxzqrUUuGCTw8IUeeqcH</td>\n",
              "      <td>3NwmvlTYDZPRBGDMGgJH8K</td>\n",
              "    </tr>\n",
              "  </tbody>\n",
              "</table>\n",
              "</div>\n",
              "    <div class=\"colab-df-buttons\">\n",
              "\n",
              "  <div class=\"colab-df-container\">\n",
              "    <button class=\"colab-df-convert\" onclick=\"convertToInteractive('df-b220976a-20e2-4f25-8957-682c383a8e4d')\"\n",
              "            title=\"Convert this dataframe to an interactive table.\"\n",
              "            style=\"display:none;\">\n",
              "\n",
              "  <svg xmlns=\"http://www.w3.org/2000/svg\" height=\"24px\" viewBox=\"0 -960 960 960\">\n",
              "    <path d=\"M120-120v-720h720v720H120Zm60-500h600v-160H180v160Zm220 220h160v-160H400v160Zm0 220h160v-160H400v160ZM180-400h160v-160H180v160Zm440 0h160v-160H620v160ZM180-180h160v-160H180v160Zm440 0h160v-160H620v160Z\"/>\n",
              "  </svg>\n",
              "    </button>\n",
              "\n",
              "  <style>\n",
              "    .colab-df-container {\n",
              "      display:flex;\n",
              "      gap: 12px;\n",
              "    }\n",
              "\n",
              "    .colab-df-convert {\n",
              "      background-color: #E8F0FE;\n",
              "      border: none;\n",
              "      border-radius: 50%;\n",
              "      cursor: pointer;\n",
              "      display: none;\n",
              "      fill: #1967D2;\n",
              "      height: 32px;\n",
              "      padding: 0 0 0 0;\n",
              "      width: 32px;\n",
              "    }\n",
              "\n",
              "    .colab-df-convert:hover {\n",
              "      background-color: #E2EBFA;\n",
              "      box-shadow: 0px 1px 2px rgba(60, 64, 67, 0.3), 0px 1px 3px 1px rgba(60, 64, 67, 0.15);\n",
              "      fill: #174EA6;\n",
              "    }\n",
              "\n",
              "    .colab-df-buttons div {\n",
              "      margin-bottom: 4px;\n",
              "    }\n",
              "\n",
              "    [theme=dark] .colab-df-convert {\n",
              "      background-color: #3B4455;\n",
              "      fill: #D2E3FC;\n",
              "    }\n",
              "\n",
              "    [theme=dark] .colab-df-convert:hover {\n",
              "      background-color: #434B5C;\n",
              "      box-shadow: 0px 1px 3px 1px rgba(0, 0, 0, 0.15);\n",
              "      filter: drop-shadow(0px 1px 2px rgba(0, 0, 0, 0.3));\n",
              "      fill: #FFFFFF;\n",
              "    }\n",
              "  </style>\n",
              "\n",
              "    <script>\n",
              "      const buttonEl =\n",
              "        document.querySelector('#df-b220976a-20e2-4f25-8957-682c383a8e4d button.colab-df-convert');\n",
              "      buttonEl.style.display =\n",
              "        google.colab.kernel.accessAllowed ? 'block' : 'none';\n",
              "\n",
              "      async function convertToInteractive(key) {\n",
              "        const element = document.querySelector('#df-b220976a-20e2-4f25-8957-682c383a8e4d');\n",
              "        const dataTable =\n",
              "          await google.colab.kernel.invokeFunction('convertToInteractive',\n",
              "                                                    [key], {});\n",
              "        if (!dataTable) return;\n",
              "\n",
              "        const docLinkHtml = 'Like what you see? Visit the ' +\n",
              "          '<a target=\"_blank\" href=https://colab.research.google.com/notebooks/data_table.ipynb>data table notebook</a>'\n",
              "          + ' to learn more about interactive tables.';\n",
              "        element.innerHTML = '';\n",
              "        dataTable['output_type'] = 'display_data';\n",
              "        await google.colab.output.renderOutput(dataTable, element);\n",
              "        const docLink = document.createElement('div');\n",
              "        docLink.innerHTML = docLinkHtml;\n",
              "        element.appendChild(docLink);\n",
              "      }\n",
              "    </script>\n",
              "  </div>\n",
              "\n",
              "\n",
              "<div id=\"df-20170eba-e25e-4021-a686-a5f5b82d5099\">\n",
              "  <button class=\"colab-df-quickchart\" onclick=\"quickchart('df-20170eba-e25e-4021-a686-a5f5b82d5099')\"\n",
              "            title=\"Suggest charts\"\n",
              "            style=\"display:none;\">\n",
              "\n",
              "<svg xmlns=\"http://www.w3.org/2000/svg\" height=\"24px\"viewBox=\"0 0 24 24\"\n",
              "     width=\"24px\">\n",
              "    <g>\n",
              "        <path d=\"M19 3H5c-1.1 0-2 .9-2 2v14c0 1.1.9 2 2 2h14c1.1 0 2-.9 2-2V5c0-1.1-.9-2-2-2zM9 17H7v-7h2v7zm4 0h-2V7h2v10zm4 0h-2v-4h2v4z\"/>\n",
              "    </g>\n",
              "</svg>\n",
              "  </button>\n",
              "\n",
              "<style>\n",
              "  .colab-df-quickchart {\n",
              "      --bg-color: #E8F0FE;\n",
              "      --fill-color: #1967D2;\n",
              "      --hover-bg-color: #E2EBFA;\n",
              "      --hover-fill-color: #174EA6;\n",
              "      --disabled-fill-color: #AAA;\n",
              "      --disabled-bg-color: #DDD;\n",
              "  }\n",
              "\n",
              "  [theme=dark] .colab-df-quickchart {\n",
              "      --bg-color: #3B4455;\n",
              "      --fill-color: #D2E3FC;\n",
              "      --hover-bg-color: #434B5C;\n",
              "      --hover-fill-color: #FFFFFF;\n",
              "      --disabled-bg-color: #3B4455;\n",
              "      --disabled-fill-color: #666;\n",
              "  }\n",
              "\n",
              "  .colab-df-quickchart {\n",
              "    background-color: var(--bg-color);\n",
              "    border: none;\n",
              "    border-radius: 50%;\n",
              "    cursor: pointer;\n",
              "    display: none;\n",
              "    fill: var(--fill-color);\n",
              "    height: 32px;\n",
              "    padding: 0;\n",
              "    width: 32px;\n",
              "  }\n",
              "\n",
              "  .colab-df-quickchart:hover {\n",
              "    background-color: var(--hover-bg-color);\n",
              "    box-shadow: 0 1px 2px rgba(60, 64, 67, 0.3), 0 1px 3px 1px rgba(60, 64, 67, 0.15);\n",
              "    fill: var(--button-hover-fill-color);\n",
              "  }\n",
              "\n",
              "  .colab-df-quickchart-complete:disabled,\n",
              "  .colab-df-quickchart-complete:disabled:hover {\n",
              "    background-color: var(--disabled-bg-color);\n",
              "    fill: var(--disabled-fill-color);\n",
              "    box-shadow: none;\n",
              "  }\n",
              "\n",
              "  .colab-df-spinner {\n",
              "    border: 2px solid var(--fill-color);\n",
              "    border-color: transparent;\n",
              "    border-bottom-color: var(--fill-color);\n",
              "    animation:\n",
              "      spin 1s steps(1) infinite;\n",
              "  }\n",
              "\n",
              "  @keyframes spin {\n",
              "    0% {\n",
              "      border-color: transparent;\n",
              "      border-bottom-color: var(--fill-color);\n",
              "      border-left-color: var(--fill-color);\n",
              "    }\n",
              "    20% {\n",
              "      border-color: transparent;\n",
              "      border-left-color: var(--fill-color);\n",
              "      border-top-color: var(--fill-color);\n",
              "    }\n",
              "    30% {\n",
              "      border-color: transparent;\n",
              "      border-left-color: var(--fill-color);\n",
              "      border-top-color: var(--fill-color);\n",
              "      border-right-color: var(--fill-color);\n",
              "    }\n",
              "    40% {\n",
              "      border-color: transparent;\n",
              "      border-right-color: var(--fill-color);\n",
              "      border-top-color: var(--fill-color);\n",
              "    }\n",
              "    60% {\n",
              "      border-color: transparent;\n",
              "      border-right-color: var(--fill-color);\n",
              "    }\n",
              "    80% {\n",
              "      border-color: transparent;\n",
              "      border-right-color: var(--fill-color);\n",
              "      border-bottom-color: var(--fill-color);\n",
              "    }\n",
              "    90% {\n",
              "      border-color: transparent;\n",
              "      border-bottom-color: var(--fill-color);\n",
              "    }\n",
              "  }\n",
              "</style>\n",
              "\n",
              "  <script>\n",
              "    async function quickchart(key) {\n",
              "      const quickchartButtonEl =\n",
              "        document.querySelector('#' + key + ' button');\n",
              "      quickchartButtonEl.disabled = true;  // To prevent multiple clicks.\n",
              "      quickchartButtonEl.classList.add('colab-df-spinner');\n",
              "      try {\n",
              "        const charts = await google.colab.kernel.invokeFunction(\n",
              "            'suggestCharts', [key], {});\n",
              "      } catch (error) {\n",
              "        console.error('Error during call to suggestCharts:', error);\n",
              "      }\n",
              "      quickchartButtonEl.classList.remove('colab-df-spinner');\n",
              "      quickchartButtonEl.classList.add('colab-df-quickchart-complete');\n",
              "    }\n",
              "    (() => {\n",
              "      let quickchartButtonEl =\n",
              "        document.querySelector('#df-20170eba-e25e-4021-a686-a5f5b82d5099 button');\n",
              "      quickchartButtonEl.style.display =\n",
              "        google.colab.kernel.accessAllowed ? 'block' : 'none';\n",
              "    })();\n",
              "  </script>\n",
              "</div>\n",
              "\n",
              "    </div>\n",
              "  </div>\n"
            ],
            "application/vnd.google.colaboratory.intrinsic+json": {
              "type": "dataframe",
              "summary": "{\n  \"name\": \"allDF\",\n  \"rows\": 3,\n  \"fields\": [\n    {\n      \"column\": \"prev_dish\",\n      \"properties\": {\n        \"dtype\": \"string\",\n        \"num_unique_values\": 3,\n        \"samples\": [\n          \"3F3ZuXYFXGM1V6pk3b3zmi\",\n          \"5eGsHi6RcL33gb9k89UYaB\",\n          \"3eoxzqrUUuGCTw8IUeeqcH\"\n        ],\n        \"semantic_type\": \"\",\n        \"description\": \"\"\n      }\n    },\n    {\n      \"column\": \"next_dish\",\n      \"properties\": {\n        \"dtype\": \"string\",\n        \"num_unique_values\": 3,\n        \"samples\": [\n          \"39QJ7KkN3L8LLqQqsO85W1\",\n          \"5bnfUWFS4sVeWx1JLA3K9Z\",\n          \"3NwmvlTYDZPRBGDMGgJH8K\"\n        ],\n        \"semantic_type\": \"\",\n        \"description\": \"\"\n      }\n    }\n  ]\n}"
            }
          },
          "metadata": {},
          "execution_count": 6
        }
      ],
      "source": [
        "allDF = pd.DataFrame(data=data, columns=[\"prev_dish\", \"next_dish\"])\n",
        "allDF.sample(3)"
      ]
    },
    {
      "cell_type": "code",
      "execution_count": 7,
      "metadata": {
        "id": "K37T8LPHGhgS"
      },
      "outputs": [],
      "source": [
        "def encode_all(X_train, X_test, y_train, y_test):\n",
        "    \"\"\"\n",
        "    Numeric Encoding of IDs.\n",
        "    Function deals with unkown values in test by encoding them as zero.\n",
        "    Inefficient, but gets the job done for now\n",
        "    \"\"\"\n",
        "    # Thought itd be better to not have y encoding overlap with x (x has a 1, and y has 1, 2 etc)\n",
        "    num_xSongs = len(X_train.prev_dish.unique())  # Variable for stopping y and x encoding from overlapping\n",
        "    X_trainMap = {i+1:o for i,o in enumerate(X_train.prev_dish)}  # Create a map for encoding train data and checking test data\n",
        "    X_train= pd.DataFrame(data=range(1, num_xSongs+1), columns=['prev_dish'])\n",
        "    X_trainMap[0] = 'UNSEEN'\n",
        "\n",
        "    for i in range(len(X_test)):\n",
        "        if X_test.iloc[i][0] not in X_trainMap.values():  # If unseen, map to zero\n",
        "            X_test.iloc[i][0] = 0\n",
        "        else:\n",
        "            X_test.iloc[i][0] = X_trainMap[X_test[i]]\n",
        "    y_trainMap = {i+1:o for i,o in enumerate(y_train.next_dish)}\n",
        "    y_train = pd.DataFrame(data=range(num_xSongs, num_xSongs + len(y_train)+1), columns=['next_dish'])\n",
        "    y_trainMap[0] = 'UNSEEN'\n",
        "    for i in range(len(y_test)):\n",
        "        if y_test.iloc[i][0] not in y_trainMap.values():\n",
        "            y_test.iloc[i][0] = 0\n",
        "        else:\n",
        "            y_test.iloc[i][0] = y_trainMap[y_test[i]]\n",
        "\n",
        "    return X_train, X_test, y_train, y_test"
      ]
    },
    {
      "cell_type": "code",
      "source": [
        "X_train, X_test, y_train, y_test = encode_all(X_train, X_test, y_train, y_test)\n",
        "trainComb = pd.concat([X_train, y_train], axis=1)\n",
        "testComb = pd.concat([X_test, y_test], axis=1)"
      ],
      "metadata": {
        "id": "RONG1dboR_-F"
      },
      "execution_count": 8,
      "outputs": []
    },
    {
      "cell_type": "code",
      "execution_count": 9,
      "metadata": {
        "colab": {
          "base_uri": "https://localhost:8080/",
          "height": 143
        },
        "id": "umsaLZA1GhgS",
        "outputId": "1b8e0080-e8bd-4fd4-86dc-5949101321a3"
      },
      "outputs": [
        {
          "output_type": "execute_result",
          "data": {
            "text/plain": [
              "   prev_dish  next_dish\n",
              "3        4.0         30\n",
              "8        9.0         35\n",
              "1        2.0         28"
            ],
            "text/html": [
              "\n",
              "  <div id=\"df-bafe79b7-367d-4666-adf4-305e6966e661\" class=\"colab-df-container\">\n",
              "    <div>\n",
              "<style scoped>\n",
              "    .dataframe tbody tr th:only-of-type {\n",
              "        vertical-align: middle;\n",
              "    }\n",
              "\n",
              "    .dataframe tbody tr th {\n",
              "        vertical-align: top;\n",
              "    }\n",
              "\n",
              "    .dataframe thead th {\n",
              "        text-align: right;\n",
              "    }\n",
              "</style>\n",
              "<table border=\"1\" class=\"dataframe\">\n",
              "  <thead>\n",
              "    <tr style=\"text-align: right;\">\n",
              "      <th></th>\n",
              "      <th>prev_dish</th>\n",
              "      <th>next_dish</th>\n",
              "    </tr>\n",
              "  </thead>\n",
              "  <tbody>\n",
              "    <tr>\n",
              "      <th>3</th>\n",
              "      <td>4.0</td>\n",
              "      <td>30</td>\n",
              "    </tr>\n",
              "    <tr>\n",
              "      <th>8</th>\n",
              "      <td>9.0</td>\n",
              "      <td>35</td>\n",
              "    </tr>\n",
              "    <tr>\n",
              "      <th>1</th>\n",
              "      <td>2.0</td>\n",
              "      <td>28</td>\n",
              "    </tr>\n",
              "  </tbody>\n",
              "</table>\n",
              "</div>\n",
              "    <div class=\"colab-df-buttons\">\n",
              "\n",
              "  <div class=\"colab-df-container\">\n",
              "    <button class=\"colab-df-convert\" onclick=\"convertToInteractive('df-bafe79b7-367d-4666-adf4-305e6966e661')\"\n",
              "            title=\"Convert this dataframe to an interactive table.\"\n",
              "            style=\"display:none;\">\n",
              "\n",
              "  <svg xmlns=\"http://www.w3.org/2000/svg\" height=\"24px\" viewBox=\"0 -960 960 960\">\n",
              "    <path d=\"M120-120v-720h720v720H120Zm60-500h600v-160H180v160Zm220 220h160v-160H400v160Zm0 220h160v-160H400v160ZM180-400h160v-160H180v160Zm440 0h160v-160H620v160ZM180-180h160v-160H180v160Zm440 0h160v-160H620v160Z\"/>\n",
              "  </svg>\n",
              "    </button>\n",
              "\n",
              "  <style>\n",
              "    .colab-df-container {\n",
              "      display:flex;\n",
              "      gap: 12px;\n",
              "    }\n",
              "\n",
              "    .colab-df-convert {\n",
              "      background-color: #E8F0FE;\n",
              "      border: none;\n",
              "      border-radius: 50%;\n",
              "      cursor: pointer;\n",
              "      display: none;\n",
              "      fill: #1967D2;\n",
              "      height: 32px;\n",
              "      padding: 0 0 0 0;\n",
              "      width: 32px;\n",
              "    }\n",
              "\n",
              "    .colab-df-convert:hover {\n",
              "      background-color: #E2EBFA;\n",
              "      box-shadow: 0px 1px 2px rgba(60, 64, 67, 0.3), 0px 1px 3px 1px rgba(60, 64, 67, 0.15);\n",
              "      fill: #174EA6;\n",
              "    }\n",
              "\n",
              "    .colab-df-buttons div {\n",
              "      margin-bottom: 4px;\n",
              "    }\n",
              "\n",
              "    [theme=dark] .colab-df-convert {\n",
              "      background-color: #3B4455;\n",
              "      fill: #D2E3FC;\n",
              "    }\n",
              "\n",
              "    [theme=dark] .colab-df-convert:hover {\n",
              "      background-color: #434B5C;\n",
              "      box-shadow: 0px 1px 3px 1px rgba(0, 0, 0, 0.15);\n",
              "      filter: drop-shadow(0px 1px 2px rgba(0, 0, 0, 0.3));\n",
              "      fill: #FFFFFF;\n",
              "    }\n",
              "  </style>\n",
              "\n",
              "    <script>\n",
              "      const buttonEl =\n",
              "        document.querySelector('#df-bafe79b7-367d-4666-adf4-305e6966e661 button.colab-df-convert');\n",
              "      buttonEl.style.display =\n",
              "        google.colab.kernel.accessAllowed ? 'block' : 'none';\n",
              "\n",
              "      async function convertToInteractive(key) {\n",
              "        const element = document.querySelector('#df-bafe79b7-367d-4666-adf4-305e6966e661');\n",
              "        const dataTable =\n",
              "          await google.colab.kernel.invokeFunction('convertToInteractive',\n",
              "                                                    [key], {});\n",
              "        if (!dataTable) return;\n",
              "\n",
              "        const docLinkHtml = 'Like what you see? Visit the ' +\n",
              "          '<a target=\"_blank\" href=https://colab.research.google.com/notebooks/data_table.ipynb>data table notebook</a>'\n",
              "          + ' to learn more about interactive tables.';\n",
              "        element.innerHTML = '';\n",
              "        dataTable['output_type'] = 'display_data';\n",
              "        await google.colab.output.renderOutput(dataTable, element);\n",
              "        const docLink = document.createElement('div');\n",
              "        docLink.innerHTML = docLinkHtml;\n",
              "        element.appendChild(docLink);\n",
              "      }\n",
              "    </script>\n",
              "  </div>\n",
              "\n",
              "\n",
              "<div id=\"df-4f3c6d2e-86ac-46b7-8d2b-4973d541b436\">\n",
              "  <button class=\"colab-df-quickchart\" onclick=\"quickchart('df-4f3c6d2e-86ac-46b7-8d2b-4973d541b436')\"\n",
              "            title=\"Suggest charts\"\n",
              "            style=\"display:none;\">\n",
              "\n",
              "<svg xmlns=\"http://www.w3.org/2000/svg\" height=\"24px\"viewBox=\"0 0 24 24\"\n",
              "     width=\"24px\">\n",
              "    <g>\n",
              "        <path d=\"M19 3H5c-1.1 0-2 .9-2 2v14c0 1.1.9 2 2 2h14c1.1 0 2-.9 2-2V5c0-1.1-.9-2-2-2zM9 17H7v-7h2v7zm4 0h-2V7h2v10zm4 0h-2v-4h2v4z\"/>\n",
              "    </g>\n",
              "</svg>\n",
              "  </button>\n",
              "\n",
              "<style>\n",
              "  .colab-df-quickchart {\n",
              "      --bg-color: #E8F0FE;\n",
              "      --fill-color: #1967D2;\n",
              "      --hover-bg-color: #E2EBFA;\n",
              "      --hover-fill-color: #174EA6;\n",
              "      --disabled-fill-color: #AAA;\n",
              "      --disabled-bg-color: #DDD;\n",
              "  }\n",
              "\n",
              "  [theme=dark] .colab-df-quickchart {\n",
              "      --bg-color: #3B4455;\n",
              "      --fill-color: #D2E3FC;\n",
              "      --hover-bg-color: #434B5C;\n",
              "      --hover-fill-color: #FFFFFF;\n",
              "      --disabled-bg-color: #3B4455;\n",
              "      --disabled-fill-color: #666;\n",
              "  }\n",
              "\n",
              "  .colab-df-quickchart {\n",
              "    background-color: var(--bg-color);\n",
              "    border: none;\n",
              "    border-radius: 50%;\n",
              "    cursor: pointer;\n",
              "    display: none;\n",
              "    fill: var(--fill-color);\n",
              "    height: 32px;\n",
              "    padding: 0;\n",
              "    width: 32px;\n",
              "  }\n",
              "\n",
              "  .colab-df-quickchart:hover {\n",
              "    background-color: var(--hover-bg-color);\n",
              "    box-shadow: 0 1px 2px rgba(60, 64, 67, 0.3), 0 1px 3px 1px rgba(60, 64, 67, 0.15);\n",
              "    fill: var(--button-hover-fill-color);\n",
              "  }\n",
              "\n",
              "  .colab-df-quickchart-complete:disabled,\n",
              "  .colab-df-quickchart-complete:disabled:hover {\n",
              "    background-color: var(--disabled-bg-color);\n",
              "    fill: var(--disabled-fill-color);\n",
              "    box-shadow: none;\n",
              "  }\n",
              "\n",
              "  .colab-df-spinner {\n",
              "    border: 2px solid var(--fill-color);\n",
              "    border-color: transparent;\n",
              "    border-bottom-color: var(--fill-color);\n",
              "    animation:\n",
              "      spin 1s steps(1) infinite;\n",
              "  }\n",
              "\n",
              "  @keyframes spin {\n",
              "    0% {\n",
              "      border-color: transparent;\n",
              "      border-bottom-color: var(--fill-color);\n",
              "      border-left-color: var(--fill-color);\n",
              "    }\n",
              "    20% {\n",
              "      border-color: transparent;\n",
              "      border-left-color: var(--fill-color);\n",
              "      border-top-color: var(--fill-color);\n",
              "    }\n",
              "    30% {\n",
              "      border-color: transparent;\n",
              "      border-left-color: var(--fill-color);\n",
              "      border-top-color: var(--fill-color);\n",
              "      border-right-color: var(--fill-color);\n",
              "    }\n",
              "    40% {\n",
              "      border-color: transparent;\n",
              "      border-right-color: var(--fill-color);\n",
              "      border-top-color: var(--fill-color);\n",
              "    }\n",
              "    60% {\n",
              "      border-color: transparent;\n",
              "      border-right-color: var(--fill-color);\n",
              "    }\n",
              "    80% {\n",
              "      border-color: transparent;\n",
              "      border-right-color: var(--fill-color);\n",
              "      border-bottom-color: var(--fill-color);\n",
              "    }\n",
              "    90% {\n",
              "      border-color: transparent;\n",
              "      border-bottom-color: var(--fill-color);\n",
              "    }\n",
              "  }\n",
              "</style>\n",
              "\n",
              "  <script>\n",
              "    async function quickchart(key) {\n",
              "      const quickchartButtonEl =\n",
              "        document.querySelector('#' + key + ' button');\n",
              "      quickchartButtonEl.disabled = true;  // To prevent multiple clicks.\n",
              "      quickchartButtonEl.classList.add('colab-df-spinner');\n",
              "      try {\n",
              "        const charts = await google.colab.kernel.invokeFunction(\n",
              "            'suggestCharts', [key], {});\n",
              "      } catch (error) {\n",
              "        console.error('Error during call to suggestCharts:', error);\n",
              "      }\n",
              "      quickchartButtonEl.classList.remove('colab-df-spinner');\n",
              "      quickchartButtonEl.classList.add('colab-df-quickchart-complete');\n",
              "    }\n",
              "    (() => {\n",
              "      let quickchartButtonEl =\n",
              "        document.querySelector('#df-4f3c6d2e-86ac-46b7-8d2b-4973d541b436 button');\n",
              "      quickchartButtonEl.style.display =\n",
              "        google.colab.kernel.accessAllowed ? 'block' : 'none';\n",
              "    })();\n",
              "  </script>\n",
              "</div>\n",
              "\n",
              "    </div>\n",
              "  </div>\n"
            ],
            "application/vnd.google.colaboratory.intrinsic+json": {
              "type": "dataframe",
              "summary": "{\n  \"name\": \"trainComb\",\n  \"rows\": 3,\n  \"fields\": [\n    {\n      \"column\": \"prev_dish\",\n      \"properties\": {\n        \"dtype\": \"number\",\n        \"std\": 3.605551275463989,\n        \"min\": 2.0,\n        \"max\": 9.0,\n        \"num_unique_values\": 3,\n        \"samples\": [\n          4.0,\n          9.0,\n          2.0\n        ],\n        \"semantic_type\": \"\",\n        \"description\": \"\"\n      }\n    },\n    {\n      \"column\": \"next_dish\",\n      \"properties\": {\n        \"dtype\": \"number\",\n        \"std\": 3,\n        \"min\": 28,\n        \"max\": 35,\n        \"num_unique_values\": 3,\n        \"samples\": [\n          30,\n          35,\n          28\n        ],\n        \"semantic_type\": \"\",\n        \"description\": \"\"\n      }\n    }\n  ]\n}"
            }
          },
          "metadata": {},
          "execution_count": 9
        }
      ],
      "source": [
        "trainComb[\"prev_dish\"].fillna(28, inplace=True)\n",
        "trainComb.sample(3)"
      ]
    },
    {
      "cell_type": "code",
      "execution_count": 10,
      "metadata": {
        "colab": {
          "base_uri": "https://localhost:8080/"
        },
        "id": "93yTe1yyGhgS",
        "outputId": "48394c35-f417-4caa-e5ff-90cd587a7f02"
      },
      "outputs": [
        {
          "output_type": "stream",
          "name": "stdout",
          "text": [
            "<class 'pandas.core.frame.DataFrame'>\n",
            "RangeIndex: 28 entries, 0 to 27\n",
            "Data columns (total 2 columns):\n",
            " #   Column     Non-Null Count  Dtype\n",
            "---  ------     --------------  -----\n",
            " 0   prev_dish  28 non-null     int64\n",
            " 1   next_dish  28 non-null     int64\n",
            "dtypes: int64(2)\n",
            "memory usage: 576.0 bytes\n"
          ]
        }
      ],
      "source": [
        "trainComb[\"prev_dish\"] = trainComb[\"prev_dish\"].astype(int)\n",
        "testComb[\"prev_dish\"] = testComb[\"prev_dish\"].astype(int)\n",
        "testComb[\"next_dish\"] = testComb[\"next_dish\"].astype(int)\n",
        "trainComb.info()"
      ]
    },
    {
      "cell_type": "markdown",
      "source": [
        "## Pytorch Dataset"
      ],
      "metadata": {
        "id": "OKrd6qPsMOLC"
      }
    },
    {
      "cell_type": "code",
      "source": [
        "y_train.shape"
      ],
      "metadata": {
        "colab": {
          "base_uri": "https://localhost:8080/"
        },
        "id": "6AnUZK_PMlrQ",
        "outputId": "e9ac9896-f5ca-4523-ae38-4b5b793cb855"
      },
      "execution_count": 11,
      "outputs": [
        {
          "output_type": "execute_result",
          "data": {
            "text/plain": [
              "(28, 1)"
            ]
          },
          "metadata": {},
          "execution_count": 11
        }
      ]
    },
    {
      "cell_type": "code",
      "source": [
        "class OurData(Dataset):\n",
        "    def __init__(self, x, y):\n",
        "        # x = torch.from_numpy(x) #\n",
        "        # y = torch.from_numpy(y)\n",
        "        self.x, self.y = x, y\n",
        "\n",
        "    def __len__(self):\n",
        "        return len(self.y)\n",
        "\n",
        "    def __getitem__(self, idx):\n",
        "        return self.x[idx], self.y[idx]"
      ],
      "metadata": {
        "id": "eT-IUb12MQtA"
      },
      "execution_count": 12,
      "outputs": []
    },
    {
      "cell_type": "code",
      "source": [
        "xTrain_vals = trainComb[\"prev_dish\"].values\n",
        "yTrain_vals = trainComb[\"next_dish\"].values\n",
        "xTrain_vals = torch.Tensor(xTrain_vals).requires_grad_(True)\n",
        "yTrain_vals = torch.Tensor(yTrain_vals).requires_grad_(True)\n",
        "\n",
        "xTest_vals = testComb[\"prev_dish\"].values\n",
        "yTest_vals = testComb[\"next_dish\"].values\n",
        "xTest_vals = torch.Tensor(xTest_vals).requires_grad_(True)\n",
        "yTest_vals = torch.Tensor(yTest_vals).requires_grad_(True)"
      ],
      "metadata": {
        "id": "EbRfiXK-Mu2J"
      },
      "execution_count": 13,
      "outputs": []
    },
    {
      "cell_type": "code",
      "source": [
        "train_ds = OurData(xTrain_vals, yTrain_vals)\n",
        "valid_ds = OurData(xTest_vals, yTest_vals)"
      ],
      "metadata": {
        "id": "lzXyszgLM1oP"
      },
      "execution_count": 14,
      "outputs": []
    },
    {
      "cell_type": "code",
      "source": [
        "train_ds.x.shape, train_ds.y.shape"
      ],
      "metadata": {
        "colab": {
          "base_uri": "https://localhost:8080/"
        },
        "id": "PLRJdhezNmsg",
        "outputId": "7f7dd2d8-9fb8-4a0e-fd5e-3e3d041272ad"
      },
      "execution_count": 15,
      "outputs": [
        {
          "output_type": "execute_result",
          "data": {
            "text/plain": [
              "(torch.Size([28]), torch.Size([28]))"
            ]
          },
          "metadata": {},
          "execution_count": 15
        }
      ]
    },
    {
      "cell_type": "code",
      "source": [
        "train_dl = DataLoader(train_ds, batch_size=7, shuffle=True)\n",
        "valid_dl = DataLoader(valid_ds, batch_size=7, shuffle=False)"
      ],
      "metadata": {
        "id": "u-4FiYQWNeE2"
      },
      "execution_count": 16,
      "outputs": []
    },
    {
      "cell_type": "markdown",
      "metadata": {
        "id": "CHVQDcYOGhgS"
      },
      "source": [
        "## Modeling:"
      ]
    },
    {
      "cell_type": "code",
      "execution_count": 28,
      "metadata": {
        "id": "FUaMD9qOGhgT"
      },
      "outputs": [],
      "source": [
        "emb_size = 512\n",
        "model = nn.Sequential(\n",
        "        nn.Embedding(len(xTrain_vals)+1, emb_size),\n",
        "        nn.ELU(),\n",
        "        nn.Linear(emb_size, len(xTrain_vals)),  # output is a 28x28\n",
        "        nn.Softmax(dim=1),\n",
        "        )\n"
      ]
    },
    {
      "cell_type": "code",
      "source": [
        "def val_metric(model, valid_dl):\n",
        "    model.eval()\n",
        "    losses = []\n",
        "    y_hats = []\n",
        "    ys = []\n",
        "    for x, y in valid_dl:  # Get batches from valid dl, but we use entire valdiation set\n",
        "        y = y.unsqueeze(1)\n",
        "        y_hat = model(x.long())\n",
        "        y_hat = torch.argmax(y_hat, dim=1)\n",
        "        loss = F.mse_loss(y_hat.float(), y.float())\n",
        "        y_hats.append(y_hat.detach().numpy())\n",
        "        ys.append(y.detach().numpy())\n",
        "        losses.append(loss.item())\n",
        "\n",
        "    ys = np.concatenate(ys)\n",
        "    y_hats = np.concatenate(y_hats)\n",
        "    return np.mean(losses)"
      ],
      "metadata": {
        "id": "0LLGHeIcIkFb"
      },
      "execution_count": 29,
      "outputs": []
    },
    {
      "cell_type": "code",
      "source": [
        "## train_loop function\n",
        "def train_loop(model, train_dl, valid_dl, optimizer, epochs):\n",
        "    losses = []\n",
        "    for i in range(epochs):\n",
        "        model.train()\n",
        "        for x, y in train_dl:  # Loop where X = 1 batch\n",
        "            y = y.unsqueeze(1)\n",
        "            y_hat = model(x.long())\n",
        "            y_hat = torch.argmax(y_hat, dim=1)\n",
        "            loss = F.mse_loss(y_hat.float(), y.float())\n",
        "            optimizer.zero_grad()\n",
        "            loss.backward()\n",
        "            optimizer.step()\n",
        "            losses.append(loss.item())\n",
        "\n",
        "        train_loss = np.mean(losses)\n",
        "        valid_loss = val_metric(model, valid_dl)  # Loops thru entire val set\n",
        "        print(f\"loss on epoch {i} = %.3f\" %\n",
        "              (train_loss))"
      ],
      "metadata": {
        "id": "Z8EvgQ0CIfN-"
      },
      "execution_count": 41,
      "outputs": []
    },
    {
      "cell_type": "code",
      "source": [
        "optimizer = torch.optim.Adam(model.parameters(), lr=0.1)"
      ],
      "metadata": {
        "id": "HyqWMVifJjIB"
      },
      "execution_count": 33,
      "outputs": []
    },
    {
      "cell_type": "code",
      "source": [
        "train_loop(model, train_dl, valid_dl, optimizer, epochs=4)"
      ],
      "metadata": {
        "colab": {
          "base_uri": "https://localhost:8080/"
        },
        "id": "DJII5xZwJccR",
        "outputId": "798e12c9-98b4-4603-9513-71a60b73991b"
      },
      "execution_count": 42,
      "outputs": [
        {
          "output_type": "stream",
          "name": "stdout",
          "text": [
            "loss on epoch 0 = 997.888\n",
            "loss on epoch 1 = 995.969\n",
            "loss on epoch 2 = 996.214\n",
            "loss on epoch 3 = 991.742\n"
          ]
        },
        {
          "output_type": "stream",
          "name": "stderr",
          "text": [
            "<ipython-input-41-10a68b757db6>:10: UserWarning: Using a target size (torch.Size([7, 1])) that is different to the input size (torch.Size([7])). This will likely lead to incorrect results due to broadcasting. Please ensure they have the same size.\n",
            "  loss = F.mse_loss(y_hat.float(), y.float())\n"
          ]
        }
      ]
    },
    {
      "cell_type": "code",
      "source": [
        "optimizer = torch.optim.SGD(model.parameters(), lr=0.1)\n",
        "train_loop(model, train_dl, valid_dl, optimizer, epochs=4)"
      ],
      "metadata": {
        "colab": {
          "base_uri": "https://localhost:8080/"
        },
        "id": "Y918NUs4TYhc",
        "outputId": "d66f0776-0649-48e9-f04a-b64e370cf669"
      },
      "execution_count": 43,
      "outputs": [
        {
          "output_type": "stream",
          "name": "stdout",
          "text": [
            "loss on epoch 0 = 994.745\n",
            "loss on epoch 1 = 985.265\n",
            "loss on epoch 2 = 987.204\n",
            "loss on epoch 3 = 988.717\n"
          ]
        },
        {
          "output_type": "stream",
          "name": "stderr",
          "text": [
            "<ipython-input-41-10a68b757db6>:10: UserWarning: Using a target size (torch.Size([7, 1])) that is different to the input size (torch.Size([7])). This will likely lead to incorrect results due to broadcasting. Please ensure they have the same size.\n",
            "  loss = F.mse_loss(y_hat.float(), y.float())\n"
          ]
        }
      ]
    },
    {
      "cell_type": "code",
      "source": [
        "optimizer = torch.optim.SGD(model.parameters(), lr=0.001)\n",
        "train_loop(model, train_dl, valid_dl, optimizer, epochs=4)"
      ],
      "metadata": {
        "colab": {
          "base_uri": "https://localhost:8080/"
        },
        "id": "60u9W5xLTdGD",
        "outputId": "55f406e8-b89d-48f8-d501-5c116e505777"
      },
      "execution_count": 45,
      "outputs": [
        {
          "output_type": "stream",
          "name": "stdout",
          "text": [
            "loss on epoch 0 = 995.082\n",
            "loss on epoch 1 = 994.638\n",
            "loss on epoch 2 = 988.061\n",
            "loss on epoch 3 = 988.449\n"
          ]
        },
        {
          "output_type": "stream",
          "name": "stderr",
          "text": [
            "<ipython-input-41-10a68b757db6>:10: UserWarning: Using a target size (torch.Size([7, 1])) that is different to the input size (torch.Size([7])). This will likely lead to incorrect results due to broadcasting. Please ensure they have the same size.\n",
            "  loss = F.mse_loss(y_hat.float(), y.float())\n"
          ]
        }
      ]
    }
  ],
  "metadata": {
    "kernelspec": {
      "display_name": "base",
      "language": "python",
      "name": "python3"
    },
    "language_info": {
      "codemirror_mode": {
        "name": "ipython",
        "version": 3
      },
      "file_extension": ".py",
      "mimetype": "text/x-python",
      "name": "python",
      "nbconvert_exporter": "python",
      "pygments_lexer": "ipython3",
      "version": "3.11.0"
    },
    "colab": {
      "provenance": []
    }
  },
  "nbformat": 4,
  "nbformat_minor": 0
}